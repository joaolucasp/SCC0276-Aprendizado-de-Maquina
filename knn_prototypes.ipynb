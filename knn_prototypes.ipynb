{
  "nbformat": 4,
  "nbformat_minor": 0,
  "metadata": {
    "colab": {
      "provenance": [],
      "include_colab_link": true
    },
    "kernelspec": {
      "name": "python3",
      "display_name": "Python 3"
    },
    "language_info": {
      "name": "python"
    }
  },
  "cells": [
    {
      "cell_type": "markdown",
      "metadata": {
        "id": "view-in-github",
        "colab_type": "text"
      },
      "source": [
        "<a href=\"https://colab.research.google.com/github/joaolucasp/SCC0276-Aprendizado-de-Maquina/blob/main/knn_prototypes.ipynb\" target=\"_parent\"><img src=\"https://colab.research.google.com/assets/colab-badge.svg\" alt=\"Open In Colab\"/></a>"
      ]
    },
    {
      "cell_type": "markdown",
      "source": [
        "# Protótipos (centróides)\n",
        "\n",
        "O método dos vizinhos mais próximos é um dos algoritmos de classificação mais simples e amplamente utilizados. No entanto, sofre de desvantagens como alto armazenamento de dados e baixa tolerância a ruído."
      ],
      "metadata": {
        "id": "1wPR7gMi4850"
      }
    },
    {
      "cell_type": "markdown",
      "source": [
        "# Exercício: Use clustering para selecionar um subconjunto de dados (protótipos)"
      ],
      "metadata": {
        "id": "2GV2ITbY5UWm"
      }
    },
    {
      "cell_type": "markdown",
      "source": [
        "Escolha um conjunto de dados (menos o Iris) e separe os dados de cada classe\n",
        "\n",
        "- https://archive.ics.uci.edu/datasets?Task=Classification"
      ],
      "metadata": {
        "id": "khIincVD5mry"
      }
    },
    {
      "cell_type": "code",
      "execution_count": null,
      "metadata": {
        "id": "6mBFH3F14zVl"
      },
      "outputs": [],
      "source": [
        "# Exemplo: classe_0 = dados_treino[classes==0]\n",
        "# ..."
      ]
    },
    {
      "cell_type": "markdown",
      "source": [
        "Agrupe os dados de cada classe separadamente e use os protótipos como dados de treinamento (centróides)."
      ],
      "metadata": {
        "id": "Ixqy9E0F6Hrh"
      }
    },
    {
      "cell_type": "code",
      "source": [
        "from sklearn.cluster import KMeans\n",
        "\n",
        "# ..."
      ],
      "metadata": {
        "id": "h9ZvXWJn6YNf"
      },
      "execution_count": null,
      "outputs": []
    },
    {
      "cell_type": "markdown",
      "source": [
        "Coloque todos os centróides em uma única matriz (dados de treinamento)"
      ],
      "metadata": {
        "id": "IbLAqEI36etd"
      }
    },
    {
      "cell_type": "code",
      "source": [
        "# ..."
      ],
      "metadata": {
        "id": "3xDjlH8B6rnW"
      },
      "execution_count": null,
      "outputs": []
    },
    {
      "cell_type": "markdown",
      "source": [
        "Pegue as classes correspondentes e use como as classes dos exemplos (centróides)"
      ],
      "metadata": {
        "id": "-rOCjrDn62l-"
      }
    },
    {
      "cell_type": "code",
      "source": [
        "# ..."
      ],
      "metadata": {
        "id": "1juM35dw7FKK"
      },
      "execution_count": null,
      "outputs": []
    },
    {
      "cell_type": "markdown",
      "source": [
        "# Faça o mesmo procedimento, mas escolhendo centróides aleatoriamente\n",
        "\n",
        "Escolha aleatoriamente M exemplos e suas classes correspondentes. Use os exemplos como centróides"
      ],
      "metadata": {
        "id": "yxoO5MWe7GfI"
      }
    },
    {
      "cell_type": "code",
      "source": [
        "# ..."
      ],
      "metadata": {
        "id": "S6uILa2t7gCO"
      },
      "execution_count": null,
      "outputs": []
    },
    {
      "cell_type": "markdown",
      "source": [
        "# Agora execute o k-NN convencional"
      ],
      "metadata": {
        "id": "JFpqYPa3703T"
      }
    },
    {
      "cell_type": "code",
      "source": [
        "# ..."
      ],
      "metadata": {
        "id": "xxf-0vRh8D1q"
      },
      "execution_count": null,
      "outputs": []
    },
    {
      "cell_type": "markdown",
      "source": [
        "# Faça um gráfico comparando as três estratégias"
      ],
      "metadata": {
        "id": "HSM9rKyr8Qqe"
      }
    },
    {
      "cell_type": "code",
      "source": [
        "# ..."
      ],
      "metadata": {
        "id": "MxNhTUci8VzI"
      },
      "execution_count": null,
      "outputs": []
    }
  ]
}